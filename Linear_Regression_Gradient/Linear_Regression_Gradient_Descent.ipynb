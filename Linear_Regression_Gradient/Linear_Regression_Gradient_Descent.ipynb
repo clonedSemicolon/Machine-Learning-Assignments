{
  "nbformat": 4,
  "nbformat_minor": 0,
  "metadata": {
    "colab": {
      "provenance": []
    },
    "kernelspec": {
      "name": "python3",
      "display_name": "Python 3"
    },
    "language_info": {
      "name": "python"
    }
  },
  "cells": [
    {
      "cell_type": "code",
      "execution_count": 1,
      "metadata": {
        "id": "p0ZFec5MZ3VJ"
      },
      "outputs": [],
      "source": [
        "import numpy as np\n",
        "import seaborn as sns\n",
        "import pandas as pd\n",
        "import matplotlib.pyplot as plt\n",
        "from google.colab import files\n",
        "import csv\n",
        "import io"
      ]
    },
    {
      "cell_type": "code",
      "source": [
        "!gdown 16uFzwzOA31PoWhTSNNe6XdQzprhPIk4h"
      ],
      "metadata": {
        "colab": {
          "base_uri": "https://localhost:8080/"
        },
        "id": "_UmiM_KNstg4",
        "outputId": "66b51f66-9843-4399-ee16-578e15b330fe"
      },
      "execution_count": 2,
      "outputs": [
        {
          "output_type": "stream",
          "name": "stdout",
          "text": [
            "Downloading...\n",
            "From: https://drive.google.com/uc?id=16uFzwzOA31PoWhTSNNe6XdQzprhPIk4h\n",
            "To: /content/4K_House_Rent_Dataset.csv\n",
            "\r  0% 0.00/567k [00:00<?, ?B/s]\r100% 567k/567k [00:00<00:00, 80.2MB/s]\n"
          ]
        }
      ]
    },
    {
      "cell_type": "code",
      "source": [
        "values = pd.read_csv(\"4K_House_Rent_Dataset.csv\")"
      ],
      "metadata": {
        "id": "JCUd9MbRt_Ru"
      },
      "execution_count": 3,
      "outputs": []
    },
    {
      "cell_type": "code",
      "source": [
        "def replace(targetList, newItem, newList):\n",
        "    return [newList if item == newItem else item for item in targetList]"
      ],
      "metadata": {
        "id": "kb137BO8wJJv"
      },
      "execution_count": 4,
      "outputs": []
    },
    {
      "cell_type": "code",
      "source": [
        "x1 = values['Size'].values\n",
        "x2 = values['BHK'].values\n",
        "x3 = values['Bathroom'].values\n",
        "x4 = values['Furnishing Status'].values\n",
        "y = values['Rent'].values"
      ],
      "metadata": {
        "id": "7QjxQZWr9_dk"
      },
      "execution_count": 5,
      "outputs": []
    },
    {
      "cell_type": "code",
      "source": [
        "t1 = t2 = t3 = t4 = t5 = 0"
      ],
      "metadata": {
        "id": "LToCL4Xb-Zog"
      },
      "execution_count": 6,
      "outputs": []
    },
    {
      "cell_type": "code",
      "source": [
        "epoch = 1000\n",
        "learning_rate = 0.0000001\n",
        "sz = len(x1)"
      ],
      "metadata": {
        "id": "U-BhCDdx-nYA"
      },
      "execution_count": null,
      "outputs": []
    },
    {
      "cell_type": "code",
      "source": [
        "for i in range(epoch):\n",
        "    c1 = c2 = c3 = c4 = c5 = 0\n",
        "    \n",
        "    for j in range(len(x1)):\n",
        "        c1 += (t1 + t2*x1[j] + t3*x2[j] + t4*x3[j] + t5*x4[j] - y[j])\n",
        "        c2 += (t1 + t2*x1[j] + t3*x2[j] + t4*x3[j] + t5*x4[j] - y[j]) * x1[j]\n",
        "        c3 += (t1 + t2*x1[j] + t3*x2[j] + t4*x3[j] + t5*x4[j] - y[j]) * x2[j]\n",
        "        c4 += (t1 + t2*x1[j] + t3*x2[j] + t4*x3[j] + t5*x4[j] - y[j]) * x3[j]\n",
        "        c5 += (t1 + t2*x1[j] + t3*x2[j] + t4*x3[j] + t5*x4[j] - y[j]) * x4[j]\n",
        "        \n",
        "    t1 = t1 - learning_rate * (c1) / sz\n",
        "    t2 = t2 - learning_rate * (c2) / sz\n",
        "    t3 = t3 - learning_rate * (c3) / sz\n",
        "    t4 = t4 - learning_rate * (c4) / sz\n",
        "    t5 = t5 - learning_rate * (c5) / sz"
      ],
      "metadata": {
        "id": "zm6Is9Vr-un3"
      },
      "execution_count": null,
      "outputs": []
    },
    {
      "cell_type": "code",
      "source": [
        "for j in range(sz):\n",
        "    tsum = t1 +  t2*x1[j] + t3*x2[j] + t4*x3[j] + t5*x4[j] - y[j]\n",
        "    tsum = tsum * tsum\n",
        "    sum = sum + tsum\n",
        "    \n",
        "cost = sum/(2*sz)\n",
        "print(cost)"
      ],
      "metadata": {
        "id": "wPMR_6VxA0IP"
      },
      "execution_count": null,
      "outputs": []
    },
    {
      "cell_type": "code",
      "source": [
        "prediction = t1 + t2*1100 + t3*2 + t4*2 + t5*1\n",
        "print(prediction)"
      ],
      "metadata": {
        "id": "y_ML2Gl0BC7_"
      },
      "execution_count": null,
      "outputs": []
    },
    {
      "cell_type": "code",
      "source": [
        "max = np.max(x1) + 100\n",
        "min = np.min(x1)\n",
        "x = np.linspace(min, max, 1000)\n",
        "yy = t2 * x + t1\n",
        "print(len(x1),len(y))\n",
        "plt.plot(x, yy, color='#58b970', label='Regression Line')\n",
        "plt.scatter(x1, y, c = \"#ef5423\", label = 'Scatter Plot')\n",
        "\n",
        "\n",
        "plt.xlabel('House Size')\n",
        "plt.ylabel('Price')\n",
        "plt.legend()\n",
        "plt.show()"
      ],
      "metadata": {
        "colab": {
          "base_uri": "https://localhost:8080/",
          "height": 307
        },
        "id": "Cw7Me72QBS64",
        "outputId": "f3e5c586-faed-48b0-cd65-08c49b4a8707"
      },
      "execution_count": 7,
      "outputs": [
        {
          "output_type": "stream",
          "name": "stdout",
          "text": [
            "4746 4746\n"
          ]
        },
        {
          "output_type": "display_data",
          "data": {
            "text/plain": [
              "<Figure size 432x288 with 1 Axes>"
            ],
            "image/png": "[encoded data removed]"
          },
          "metadata": {
            "needs_background": "light"
          }
        }
      ]
    }
  ]
}
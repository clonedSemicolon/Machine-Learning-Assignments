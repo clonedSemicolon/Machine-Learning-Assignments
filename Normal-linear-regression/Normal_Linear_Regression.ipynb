{
  "nbformat": 4,
  "nbformat_minor": 0,
  "metadata": {
    "colab": {
      "provenance": []
    },
    "kernelspec": {
      "name": "python3",
      "display_name": "Python 3"
    },
    "language_info": {
      "name": "python"
    }
  },
  "cells": [
    {
      "cell_type": "code",
      "execution_count": 2,
      "metadata": {
        "id": "p0ZFec5MZ3VJ"
      },
      "outputs": [],
      "source": [
        "import numpy as np\n",
        "import seaborn as sns\n",
        "import pandas as pd\n",
        "import matplotlib.pyplot as plt\n",
        "from google.colab import files\n",
        "import csv\n",
        "import io"
      ]
    },
    {
      "cell_type": "code",
      "source": [
        "!gdown 16uFzwzOA31PoWhTSNNe6XdQzprhPIk4h"
      ],
      "metadata": {
        "colab": {
          "base_uri": "https://localhost:8080/"
        },
        "id": "_UmiM_KNstg4",
        "outputId": "9245be75-2863-4e6d-90c6-5738e4da9abb"
      },
      "execution_count": 4,
      "outputs": [
        {
          "output_type": "stream",
          "name": "stdout",
          "text": [
            "Downloading...\n",
            "From: https://drive.google.com/uc?id=16uFzwzOA31PoWhTSNNe6XdQzprhPIk4h\n",
            "To: /content/4K_House_Rent_Dataset.csv\n",
            "\r  0% 0.00/567k [00:00<?, ?B/s]\r100% 567k/567k [00:00<00:00, 123MB/s]\n"
          ]
        }
      ]
    },
    {
      "cell_type": "code",
      "source": [
        "values = pd.read_csv(\"4K_House_Rent_Dataset.csv\")"
      ],
      "metadata": {
        "id": "JCUd9MbRt_Ru"
      },
      "execution_count": 5,
      "outputs": []
    },
    {
      "cell_type": "code",
      "source": [
        "def replace(targetList, newItem, newList):\n",
        "    return [newList if item == newItem else item for item in targetList]"
      ],
      "metadata": {
        "id": "kb137BO8wJJv"
      },
      "execution_count": 10,
      "outputs": []
    },
    {
      "cell_type": "code",
      "source": [
        "x1 = values['Size'].values\n",
        "x2 = values['BHK'].values\n",
        "x3 = values['Bathroom'].values\n",
        "x4 = values['Furnishing Status'].values\n",
        "y = values['Rent'].values"
      ],
      "metadata": {
        "id": "VORk_MNwvCym"
      },
      "execution_count": 6,
      "outputs": []
    },
    {
      "cell_type": "code",
      "source": [
        "mean = round(np.mean(x1))\n",
        "max = max(x1)\n",
        "min = min(x1)"
      ],
      "metadata": {
        "id": "EqSir_OuvX2U"
      },
      "execution_count": null,
      "outputs": []
    },
    {
      "cell_type": "code",
      "source": [
        "x4 = replace(x4,'Furnished',3)\n",
        "x4 = replace(x4,'Semi-Furnished',2)\n",
        "x4 = replace(x4,'Unfurnished',1)"
      ],
      "metadata": {
        "id": "2Yx7dUw4wrgk"
      },
      "execution_count": 12,
      "outputs": []
    },
    {
      "cell_type": "code",
      "source": [
        "Y = [np.array(y)]\n",
        "Y = np.transpose(Y)\n",
        "print(Y)"
      ],
      "metadata": {
        "colab": {
          "base_uri": "https://localhost:8080/"
        },
        "id": "I2MxAFd0x2X1",
        "outputId": "d870c9b7-bc2b-4413-c1b9-e1539b66379b"
      },
      "execution_count": 13,
      "outputs": [
        {
          "output_type": "stream",
          "name": "stdout",
          "text": [
            "[[10000]\n",
            " [20000]\n",
            " [17000]\n",
            " ...\n",
            " [35000]\n",
            " [45000]\n",
            " [15000]]\n"
          ]
        }
      ]
    },
    {
      "cell_type": "code",
      "source": [
        "X = []\n",
        "column = 5\n",
        "row = len(Y)\n",
        "for r in range(row):\n",
        "  temp_list = []\n",
        "  temp_list.append(1)\n",
        "  temp_list.append(x1[r])\n",
        "  temp_list.append(x2[r])\n",
        "  temp_list.append(x3[r])\n",
        "  temp_list.append(x4[r])\n",
        "  X.append(temp_list)"
      ],
      "metadata": {
        "id": "FFqxE4ehydBP"
      },
      "execution_count": 14,
      "outputs": []
    },
    {
      "cell_type": "code",
      "source": [
        "from numpy.linalg import inv"
      ],
      "metadata": {
        "id": "5o8FbPN3yuGO"
      },
      "execution_count": 18,
      "outputs": []
    },
    {
      "cell_type": "code",
      "source": [
        "transpose = np.transpose(X)\n",
        "print(transpose)"
      ],
      "metadata": {
        "id": "2QqjZ5svzy8F"
      },
      "execution_count": 19,
      "outputs": []
    },
    {
      "cell_type": "code",
      "source": [
        "transposeMultiplyX = np.matmul(transpose,X)\n"
      ],
      "metadata": {
        "id": "Oe_SYBGjzT_o"
      },
      "execution_count": 20,
      "outputs": []
    },
    {
      "cell_type": "code",
      "source": [
        "inverse = inv(transposeMultiplyX)\n",
        "print(inverse)"
      ],
      "metadata": {
        "colab": {
          "base_uri": "https://localhost:8080/"
        },
        "id": "UF8NZdjyz717",
        "outputId": "ff7da136-b33a-4ea3-a408-e5174981adb7"
      },
      "execution_count": 21,
      "outputs": [
        {
          "output_type": "stream",
          "name": "stdout",
          "text": [
            "[[ 2.70809103e-03  3.81135845e-07 -6.13810508e-04 -1.73522605e-04\n",
            "  -7.07564179e-04]\n",
            " [ 3.81135845e-07  1.29166178e-09 -3.40965149e-07 -4.24053760e-07\n",
            "  -4.92092169e-08]\n",
            " [-6.13810508e-04 -3.40965149e-07  9.16492515e-04 -5.06772440e-04\n",
            "   1.70915380e-05]\n",
            " [-1.73522605e-04 -4.24053760e-07 -5.06772440e-04  8.80917788e-04\n",
            "  -5.22092778e-05]\n",
            " [-7.07564179e-04 -4.92092169e-08  1.70915380e-05 -5.22092778e-05\n",
            "   4.66929681e-04]]\n"
          ]
        }
      ]
    },
    {
      "cell_type": "code",
      "source": [
        "transposeMultiplyY = np.matmul(transpose,Y)"
      ],
      "metadata": {
        "id": "8fxnopFTz_tE"
      },
      "execution_count": 23,
      "outputs": []
    },
    {
      "cell_type": "code",
      "source": [
        "angle = np.matmul(inverse,transposeMultiplyY)\n",
        "print(angle)"
      ],
      "metadata": {
        "colab": {
          "base_uri": "https://localhost:8080/"
        },
        "id": "3NhRnVuT0Lia",
        "outputId": "65e96b04-f77a-4547-9ec1-093d0e5d6442"
      },
      "execution_count": 24,
      "outputs": [
        {
          "output_type": "stream",
          "name": "stdout",
          "text": [
            "[[-4.93089571e+04]\n",
            " [ 2.35095594e+01]\n",
            " [-1.29289804e+03]\n",
            " [ 2.64676202e+04]\n",
            " [ 6.93957077e+03]]\n"
          ]
        }
      ]
    },
    {
      "cell_type": "code",
      "source": [
        "ang1 = angle[0][0]\n",
        "ang2 = angle[1][0]\n",
        "ang3 = angle[2][0]\n",
        "ang4 = angle[3][0]\n",
        "ang5 = angle[4][0]\n",
        "print(ang1,ang2,ang3,ang4,ang5)"
      ],
      "metadata": {
        "colab": {
          "base_uri": "https://localhost:8080/"
        },
        "id": "S9YVX-WX0QPh",
        "outputId": "53ec2607-eb24-45d5-aa1d-3a723dab5bf6"
      },
      "execution_count": 26,
      "outputs": [
        {
          "output_type": "stream",
          "name": "stdout",
          "text": [
            "-49308.9570519877 23.509559413395415 -1292.8980373916556 26467.620179929152 6939.570768955076\n"
          ]
        }
      ]
    },
    {
      "cell_type": "code",
      "source": [
        "sum = 0\n",
        "for j in range(len(x1)):\n",
        "    temp_sum = ang1 +  ang2*x1[j] + ang3*x2[j] + ang4*x3[j] + ang5*x4[j] - y[j]\n",
        "    temp_sum = temp_sum * temp_sum\n",
        "    sum = sum + temp_sum\n",
        "    \n",
        "cost = sum/(2*len(x1))\n",
        "print(cost)"
      ],
      "metadata": {
        "colab": {
          "base_uri": "https://localhost:8080/"
        },
        "id": "QrehqLwi0iS2",
        "outputId": "5efcba70-4da1-4e26-bec6-ea89b81dba55"
      },
      "execution_count": 27,
      "outputs": [
        {
          "output_type": "stream",
          "name": "stdout",
          "text": [
            "2394004443.1277804\n"
          ]
        }
      ]
    },
    {
      "cell_type": "code",
      "source": [
        "prediction = ang1 + ang2*1100 + ang3*2 + ang4*2 + ang5*1\n",
        "print(prediction)"
      ],
      "metadata": {
        "colab": {
          "base_uri": "https://localhost:8080/"
        },
        "id": "JsTMI2Ng1hw8",
        "outputId": "40d11885-a740-4ee1-9659-61e2fdb167eb"
      },
      "execution_count": 29,
      "outputs": [
        {
          "output_type": "stream",
          "name": "stdout",
          "text": [
            "33840.57335677733\n"
          ]
        }
      ]
    },
    {
      "cell_type": "code",
      "source": [
        "max_x = np.max(x1) + 100\n",
        "min_x = np.min(x1)\n",
        "x = np.linspace(min_x, max_x, 1000)\n",
        "yy = ang2 * x + ang1\n",
        "plt.plot(x, yy, color='#58b970', label='Regression Line')\n",
        "plt.scatter(x1, y, c = \"#ef5423\", label = 'Scatter Plot')\n",
        "\n",
        "plt.xlabel('House Size')\n",
        "plt.ylabel('Price')\n",
        "plt.legend()\n",
        "plt.show()"
      ],
      "metadata": {
        "colab": {
          "base_uri": "https://localhost:8080/",
          "height": 290
        },
        "id": "4lCIEv5V1xBD",
        "outputId": "6c028958-06ea-4bc4-c70a-307a01a44214"
      },
      "execution_count": 31,
      "outputs": [
        {
          "output_type": "display_data",
          "data": {
            "text/plain": [
              "<Figure size 432x288 with 1 Axes>"
            ],
            "image/png": "[encoded data removed]"
          },
          "metadata": {
            "needs_background": "light"
          }
        }
      ]
    }
  ]
}
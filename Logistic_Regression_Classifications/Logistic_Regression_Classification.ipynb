{
  "nbformat": 4,
  "nbformat_minor": 0,
  "metadata": {
    "colab": {
      "provenance": [],
      "collapsed_sections": []
    },
    "kernelspec": {
      "name": "python3",
      "display_name": "Python 3"
    },
    "language_info": {
      "name": "python"
    }
  },
  "cells": [
    {
      "cell_type": "code",
      "execution_count": 1,
      "metadata": {
        "id": "VJxq2mCvFLTt"
      },
      "outputs": [],
      "source": [
        "import numpy as np\n",
        "import matplotlib.pyplot as plt\n",
        "import copy\n",
        "import math\n",
        "import pandas as pd\n",
        "from matplotlib.patches import FancyArrowPatch\n",
        "from ipywidgets import Output"
      ]
    },
    {
      "cell_type": "code",
      "source": [
        "! gdown 1Wh9jIWUxTIdTTZ87E9IccoFz42NvlhMe"
      ],
      "metadata": {
        "id": "q6Q4C3Q0FgZy"
      },
      "execution_count": null,
      "outputs": []
    },
    {
      "cell_type": "code",
      "source": [
        "def get_Mean(x):\n",
        "  den = (x.max(axis=0, keepdims=True) - x.min(axis=0, keepdims=True)).flatten()\n",
        "  avg = (x.mean(axis=0, keepdims=True)).flatten()\n",
        "  \n",
        "\n",
        "  for i in range(len(x)):\n",
        "    x[i, 0] = (x[i, 0] - avg[0]) / den[0]\n",
        "    x[i, 1] = (x[i, 1] - avg[1]) / den[1]\n",
        "  \n",
        "  return x\n",
        "\n",
        "def get_min_max_scale(x):\n",
        "  min = x.min(axis=0, keepdims=True).flatten()\n",
        "  denom = (x.max(axis=0, keepdims=True) - x.min(axis=0, keepdims=True)).flatten()\n",
        "\n",
        "  for i in range(len(x)):\n",
        "    x[i, 0] = (x[i, 0] - min[0]) / denom[0]\n",
        "    x[i, 1] = (x[i, 1] - min[1]) / denom[1]\n",
        "  \n",
        "  return x"
      ],
      "metadata": {
        "id": "mdQe_8OnGcSb"
      },
      "execution_count": 12,
      "outputs": []
    },
    {
      "cell_type": "code",
      "source": [
        "data = pd.read_csv('data.txt')\n",
        "data.info()\n",
        "val = [float(x) for x in data.columns.str.strip()]\n",
        "val[-1] = int(val[-1])\n",
        "data.rename(columns = {'34.62365962451697': 'x1', '78.0246928153624': 'x2', '0': 'y'}, inplace=True)\n",
        "new_row = pd.DataFrame({ 'x1': val[0], 'x2': val[1], 'y': val[2] }, index=[0])\n",
        "data = pd.concat( [new_row, data.loc[:]] ).reset_index(drop=True)\n",
        "data"
      ],
      "metadata": {
        "id": "t9mVpSauFrF6"
      },
      "execution_count": null,
      "outputs": []
    },
    {
      "cell_type": "code",
      "source": [
        "trainX = np.array( [ [x1, x2] for x1, x2 in zip(data['x1'], data['x2']) ] ) #(m,n)\n",
        "trainY = np.array([y for y in data['y']])\n",
        "print(trainX,trainY)"
      ],
      "metadata": {
        "id": "YvMpOu7IKRCG"
      },
      "execution_count": null,
      "outputs": []
    },
    {
      "cell_type": "code",
      "source": [
        "trainx = get_min_max_scale(trainX)\n",
        "trainx"
      ],
      "metadata": {
        "id": "ATjpPSvRGYNZ"
      },
      "execution_count": null,
      "outputs": []
    },
    {
      "cell_type": "code",
      "source": [
        "pos_label=\"y=1\"\n",
        "neg_label=\"y=0\"\n",
        "fig, ax = plt.subplots(1,1,figsize=(8,8))\n",
        "\n",
        "pos = trainY == 1\n",
        "neg = trainY == 0\n",
        "print(pos.shape)\n",
        "\n",
        "# Plot examples\n",
        "ax.scatter(trainX[pos, 0], trainX[pos, 1], marker='x', s=80, c = 'red', label=pos_label)\n",
        "ax.scatter(trainX[neg, 0], trainX[neg, 1], marker='o', s=80, label=neg_label, facecolors='none', edgecolors='green', lw=3)\n",
        "ax.legend(loc='best' )\n",
        "\n",
        "ax.figure.canvas.toolbar_visible = False\n",
        "ax.figure.canvas.header_visible = False\n",
        "ax.figure.canvas.footer_visible = False"
      ],
      "metadata": {
        "id": "E1EpgYLBkrIe"
      },
      "execution_count": null,
      "outputs": []
    },
    {
      "cell_type": "code",
      "source": [
        "def getSigmoidValue(z):\n",
        "    z = np.clip( z, -500, 500 )           # protect against overflow\n",
        "    g = 1.0/(1.0+np.exp(-z))\n",
        "    return g\n",
        "\n",
        "def getLogisticCostValue(X, y, w, b):\n",
        "    m = X.shape[0]\n",
        "    cost = 0.0\n",
        "    for i in range(m):\n",
        "        z_i = np.dot(X[i],w) + b\n",
        "        f_wb_i = getSigmoidValue(z_i)\n",
        "        cost +=  -y[i]*np.log(f_wb_i) - (1-y[i])*np.log(1-f_wb_i)\n",
        "             \n",
        "    cost = cost / m\n",
        "    return cost\n",
        "\n",
        "def getComputeGradientLogisticValue(X, y, w, b): \n",
        "    m,n = X.shape\n",
        "    dj_dw = np.zeros((n,))                           \n",
        "    dj_db = 0.\n",
        "\n",
        "    for i in range(m):\n",
        "        f_wb_i = getSigmoidValue(np.dot(X[i],w) + b)        \n",
        "        err_i  = f_wb_i  - y[i]                       \n",
        "        for j in range(n):\n",
        "            dj_dw[j] = dj_dw[j] + err_i * X[i,j]      \n",
        "        dj_db = dj_db + err_i\n",
        "    dj_dw = dj_dw/m                                   \n",
        "    dj_db = dj_db/m                                   \n",
        "        \n",
        "    return dj_db, dj_dw\n",
        "\n",
        "\n",
        "def gradient_descent_graph(X, y, w_in, b_in, alpha, num_iters): \n",
        "    J_history = []\n",
        "    w = copy.deepcopy(w_in) \n",
        "    b = b_in\n",
        "    \n",
        "    for i in range(num_iters):\n",
        "        \n",
        "        dj_db, dj_dw = getComputeGradientLogisticValue(X, y, w, b)   \n",
        "\n",
        "        \n",
        "        w = w - alpha * dj_dw               \n",
        "        b = b - alpha * dj_db               \n",
        "      \n",
        "        if i<100000:      \n",
        "            J_history.append( getLogisticCostValue(X, y, w, b) )\n",
        "\n",
        "\n",
        "        if i% math.ceil(num_iters / 10) == 0:\n",
        "            print(f\"Iteration {i:4d}: Cost {J_history[-1]}   \")\n",
        "        \n",
        "    return w, b, J_history \n",
        "\n",
        "tmp1 = np.array([1,1])\n",
        "tmp2 = -3\n",
        "print(getLogisticCostValue(trainX, trainX, tmp1, tmp2))"
      ],
      "metadata": {
        "colab": {
          "base_uri": "https://localhost:8080/"
        },
        "id": "5mwaQARVOzLu",
        "outputId": "4953daa9-8388-42e4-9f09-11c13881ceb9"
      },
      "execution_count": 37,
      "outputs": [
        {
          "output_type": "stream",
          "name": "stdout",
          "text": [
            "[1.0673406  1.09404693]\n"
          ]
        }
      ]
    },
    {
      "cell_type": "code",
      "source": [
        "arr1 = np.array([1,1])\n",
        "b_1 = -3\n",
        "arr2 = np.array([1,1])\n",
        "b_2 = -4"
      ],
      "metadata": {
        "id": "J91k1xhlmkqi"
      },
      "execution_count": 35,
      "outputs": []
    },
    {
      "cell_type": "code",
      "source": [
        "w_tmp  = np.zeros_like(trainX[0])\n",
        "b_tmp  = 0.\n",
        "alph = 0.1\n",
        "iters = 10000\n",
        "\n",
        "w_out, b_out, _ = gradient_descent_graph(trainX, trainY, w_tmp, b_tmp, alph, iters) \n",
        "print(f\"\\nupdated parameters: w:{w_out}, b:{b_out}\")"
      ],
      "metadata": {
        "id": "s0iV4H5Mm1ip"
      },
      "execution_count": null,
      "outputs": []
    },
    {
      "cell_type": "code",
      "source": [
        "figure,plot = plt.subplots(1,1,figsize=(5,5))\n",
        "\n",
        "plot.scatter(trainX[pos, 0], trainX[pos, 1], marker='x', s=80, c = 'red', label=pos_label)\n",
        "plot.scatter(trainX[neg, 0], trainX[neg, 1], marker='o', s=80, label=neg_label, facecolors='none', edgecolors='green', lw=3)\n",
        "\n",
        "x0 = -b_out/w_out[0]\n",
        "x1 = -b_out/w_out[1]\n",
        "\n",
        "plot.plot([0,x0],[x1,0], c='black', lw=2)\n",
        "plt.show()"
      ],
      "metadata": {
        "colab": {
          "base_uri": "https://localhost:8080/",
          "height": 320
        },
        "id": "9rCGID4lrjjI",
        "outputId": "7146d952-b16b-40e9-c216-2c82b7808701"
      },
      "execution_count": 48,
      "outputs": [
        {
          "output_type": "display_data",
          "data": {
            "text/plain": [
              "<Figure size 360x360 with 1 Axes>"
            ],
            "image/png": "[encoded data removed]"
          },
          "metadata": {
            "needs_background": "light"
          }
        }
      ]
    }
  ]
}